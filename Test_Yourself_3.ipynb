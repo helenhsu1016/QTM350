{
  "nbformat": 4,
  "nbformat_minor": 0,
  "metadata": {
    "colab": {
      "provenance": [],
      "collapsed_sections": []
    },
    "kernelspec": {
      "name": "python3",
      "display_name": "Python 3"
    },
    "language_info": {
      "name": "python"
    }
  },
  "cells": [
    {
      "cell_type": "markdown",
      "source": [
        "# Test yourself 3"
      ],
      "metadata": {
        "id": "qHfNGIwtdp6t"
      }
    },
    {
      "cell_type": "code",
      "source": [
        "!wget http://archive.ics.uci.edu/ml/machine-learning-databases/adult/adult.data\n",
        "!wc -l adult.data"
      ],
      "metadata": {
        "colab": {
          "base_uri": "https://localhost:8080/"
        },
        "id": "_AAPdPcQMhGH",
        "outputId": "62e87d98-7b92-4a67-d40b-050949eb2099"
      },
      "execution_count": 2,
      "outputs": [
        {
          "output_type": "stream",
          "name": "stdout",
          "text": [
            "--2022-09-26 14:04:10--  http://archive.ics.uci.edu/ml/machine-learning-databases/adult/adult.data\n",
            "Resolving archive.ics.uci.edu (archive.ics.uci.edu)... 128.195.10.252\n",
            "Connecting to archive.ics.uci.edu (archive.ics.uci.edu)|128.195.10.252|:80... connected.\n",
            "HTTP request sent, awaiting response... 200 OK\n",
            "Length: 3974305 (3.8M) [application/x-httpd-php]\n",
            "Saving to: ‘adult.data.1’\n",
            "\n",
            "adult.data.1        100%[===================>]   3.79M  6.80MB/s    in 0.6s    \n",
            "\n",
            "2022-09-26 14:04:10 (6.80 MB/s) - ‘adult.data.1’ saved [3974305/3974305]\n",
            "\n",
            "32562 adult.data\n"
          ]
        }
      ]
    },
    {
      "cell_type": "code",
      "source": [
        "!wc -w adult.data"
      ],
      "metadata": {
        "colab": {
          "base_uri": "https://localhost:8080/"
        },
        "id": "0TEz6v3fdheX",
        "outputId": "a56a8b99-d046-49d8-e0db-73bfbd430c4e"
      },
      "execution_count": 3,
      "outputs": [
        {
          "output_type": "stream",
          "name": "stdout",
          "text": [
            "488415 adult.data\n"
          ]
        }
      ]
    },
    {
      "cell_type": "code",
      "source": [
        "!ls -l <folder> | wc -l\n",
        "!head -n 2 adult.data"
      ],
      "metadata": {
        "id": "M8BbX6Ojd28j",
        "colab": {
          "base_uri": "https://localhost:8080/"
        },
        "outputId": "02cbc5ba-4ec3-433c-af06-512737d0f0b7"
      },
      "execution_count": 4,
      "outputs": [
        {
          "output_type": "stream",
          "name": "stdout",
          "text": [
            "/bin/bash: -c: line 0: syntax error near unexpected token `|'\n",
            "/bin/bash: -c: line 0: `ls -l <folder> | wc -l'\n",
            "39, State-gov, 77516, Bachelors, 13, Never-married, Adm-clerical, Not-in-family, White, Male, 2174, 0, 40, United-States, <=50K\n",
            "50, Self-emp-not-inc, 83311, Bachelors, 13, Married-civ-spouse, Exec-managerial, Husband, White, Male, 0, 0, 13, United-States, <=50K\n"
          ]
        }
      ]
    },
    {
      "cell_type": "code",
      "source": [
        "!echo \"age,workclass,fnlwgt,education,education-num,marital-status,occupation,relationship,race,sex,capital-gain,capital-loss,native-country,class\" > header.csv"
      ],
      "metadata": {
        "id": "KPeXN9pnDx-E"
      },
      "execution_count": 5,
      "outputs": []
    },
    {
      "cell_type": "code",
      "source": [
        "!cat header.csv adult.data > adult.csv"
      ],
      "metadata": {
        "id": "mwp9JVZxD2NN"
      },
      "execution_count": 6,
      "outputs": []
    },
    {
      "cell_type": "code",
      "source": [
        "!head -n 1 adult.csv"
      ],
      "metadata": {
        "colab": {
          "base_uri": "https://localhost:8080/"
        },
        "id": "oLk-lT5GD41Y",
        "outputId": "aefbfd5f-76a6-462d-8dd4-623b615f1798"
      },
      "execution_count": 8,
      "outputs": [
        {
          "output_type": "stream",
          "name": "stdout",
          "text": [
            "age,workclass,fnlwgt,education,education-num,marital-status,occupation,relationship,race,sex,capital-gain,capital-loss,native-country,class\n"
          ]
        }
      ]
    },
    {
      "cell_type": "code",
      "source": [
        "!sed \"s/<string to replace>/<string to replace it with>/g\" <source_file> > <target_file>."
      ],
      "metadata": {
        "colab": {
          "base_uri": "https://localhost:8080/"
        },
        "id": "s367Wbk4D7jy",
        "outputId": "1cbcf3d6-39b8-4c6c-b959-c8c2353b2439"
      },
      "execution_count": 9,
      "outputs": [
        {
          "output_type": "stream",
          "name": "stdout",
          "text": [
            "/bin/bash: -c: line 0: syntax error near unexpected token `>'\n",
            "/bin/bash: -c: line 0: `sed \"s/<string to replace>/<string to replace it with>/g\" <source_file> > <target_file>.'\n"
          ]
        }
      ]
    },
    {
      "cell_type": "code",
      "source": [
        "!grep \", ?,\" adult.csv | wc -l"
      ],
      "metadata": {
        "colab": {
          "base_uri": "https://localhost:8080/"
        },
        "id": "NxWC5I2REF_l",
        "outputId": "1526af1d-1e44-49bf-b5be-d8d7411bf84d"
      },
      "execution_count": 10,
      "outputs": [
        {
          "output_type": "stream",
          "name": "stdout",
          "text": [
            "2399\n"
          ]
        }
      ]
    },
    {
      "cell_type": "code",
      "source": [
        "!sed \"s/, ?,/,,/g\" adult.csv >  adult.csv"
      ],
      "metadata": {
        "id": "zvR5jYYMEH5s"
      },
      "execution_count": 11,
      "outputs": []
    },
    {
      "cell_type": "code",
      "source": [
        "!head -n 120 adult.csv | tail -n 20 > adult_sample.csv"
      ],
      "metadata": {
        "id": "r-FI6GNoEJZF"
      },
      "execution_count": 12,
      "outputs": []
    },
    {
      "cell_type": "code",
      "source": [
        "!head -n <total_lines> <source_file> | tail -n <number_of_lines> > <target_file>"
      ],
      "metadata": {
        "colab": {
          "base_uri": "https://localhost:8080/"
        },
        "id": "TjOz_HlfENcl",
        "outputId": "62ca7a4f-52b7-4aeb-b6bb-913e219ff92c"
      },
      "execution_count": 13,
      "outputs": [
        {
          "output_type": "stream",
          "name": "stdout",
          "text": [
            "/bin/bash: -c: line 0: syntax error near unexpected token `<'\n",
            "/bin/bash: -c: line 0: `head -n <total_lines> <source_file> | tail -n <number_of_lines> > <target_file>'\n"
          ]
        }
      ]
    },
    {
      "cell_type": "code",
      "source": [
        "!cat adult_sample.csv header.csv > adult_sample_with_header.csv"
      ],
      "metadata": {
        "id": "WjPQoobhEQn_"
      },
      "execution_count": 14,
      "outputs": []
    }
  ]
}